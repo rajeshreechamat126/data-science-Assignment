{
 "cells": [
  {
   "cell_type": "code",
   "execution_count": null,
   "id": "c7ca2b82",
   "metadata": {},
   "outputs": [],
   "source": []
  },
  {
   "cell_type": "markdown",
   "id": "b9b1a8e4",
   "metadata": {},
   "source": [
    "Question 1: -\n",
    "\n",
    "Write a program that takes a string as input, and counts the frequency of each word in the string, there might\n",
    "be repeated characters in the string. Your task is to find the highest frequency and returns the length of the\n",
    "highest-frequency word.\n",
    "     \n",
    "Ans: \n",
    "      Python Program to find Maximum frequency character in String\n",
    "     \n",
    "      We will learn to find the max frequent character in the string. Strings in Python are a sequence of characters wrapped         inside single, double, or triple quotes. The frequency of a character is the total number of times that character occurs       in the given string. We have to find and print the character which occurs the most in the string in our program.\n",
    "      \n",
    "      Look at the examples to understand the input and output format.\n"
   ]
  },
  {
   "cell_type": "code",
   "execution_count": 7,
   "id": "f2e09262",
   "metadata": {},
   "outputs": [
    {
     "data": {
      "text/plain": [
       "'write write write'"
      ]
     },
     "execution_count": 7,
     "metadata": {},
     "output_type": "execute_result"
    }
   ],
   "source": [
    "\"write write write\""
   ]
  },
  {
   "cell_type": "code",
   "execution_count": 5,
   "id": "989ada68",
   "metadata": {},
   "outputs": [
    {
     "data": {
      "text/plain": [
       "'from from from'"
      ]
     },
     "execution_count": 5,
     "metadata": {},
     "output_type": "execute_result"
    }
   ],
   "source": [
    "\"from from from\""
   ]
  },
  {
   "cell_type": "markdown",
   "id": "d9e775ea",
   "metadata": {},
   "source": [
    "To execute this task, we can follow multiple approaches, some are discussed below:\n",
    "\n",
    " 1. By using keys in the dictionary and max() method\n",
    " 2. By using Counter() and max() method\n",
    " We will discuss all three approaches in detail separately.\n",
    "\n",
    " Keys of dictionary and max() method\n",
    "  In this approach, we will iterate through the string and form keys of the characters which occur in the string. The keys will   have the value of how many times that character has occurred in the string. Then, using the max() method, we can find the key   with the maximum count value, which will be then used to print the result.\n",
    "\n",
    "  The max() method returns the item with the highest value.\n",
    "\n",
    "\n",
    " Algorithm\n",
    "   \n",
    "   Step 1- Define a string with characters\n",
    "\n",
    "   Step 2- Declare an empty dictionary\n",
    "\n",
    "   Step 3- Run a loop to iterate through the string\n",
    "\n",
    "   Step 4- Add the character in the dictionary and keep a count of the frequency\n",
    "\n",
    "   Step 5- To get the maximum count use max() and store the value returned by it in a variable\n",
    "\n",
    "   Step 6- Print the variable which has the lowest count as the result\n",
    "   \n",
    "\n",
    "   In this program, we have defined a string with certain values and printed the least frequent character in that string using    a dictionary char_freq, storing the characters and their occurrences as the key and its value. We can get the Key using the    get() method.\n"
   ]
  },
  {
   "cell_type": "code",
   "execution_count": 10,
   "id": "44d1fe33",
   "metadata": {},
   "outputs": [
    {
     "name": "stdout",
     "output_type": "stream",
     "text": [
      "write write write\n",
      "Most frequent character:  w\n"
     ]
    }
   ],
   "source": [
    "string= \"write write write\"\n",
    "print(string)\n",
    "\n",
    "char_freq={}\n",
    "\n",
    "for i in string:\n",
    "    if i in char_freq:\n",
    "        char_freq[i]=char_freq[i]+1\n",
    "    else:\n",
    "        char_freq[i] = 1\n",
    "result= max(char_freq, key = char_freq.get)\n",
    "\n",
    "print(\"Most frequent character: \",result)\n"
   ]
  },
  {
   "cell_type": "markdown",
   "id": "793340ec",
   "metadata": {},
   "source": [
    "  The Counter() method can be used to get the frequency of every character in the string then we can use the max() method to     get the maximum count value.\n",
    "\n",
    "  The counter is a sub-class that counts all the hashable objects.\n",
    "\n",
    "  Algorithm\n",
    " \n",
    "  Step 1- Import Counter\n",
    "\n",
    "  Step 2- Declare a string with characters\n",
    "\n",
    "  Step 3- Print string\n",
    "\n",
    "  Step 4- Call the Counter() and pass the string\n",
    "\n",
    "  Step 5- To get the maximum count use max() and store the value returned by it in a variable\n",
    "\n",
    "  Step 6- Print the variable as the result\n",
    "\n",
    " \n",
    "  In this program, to use Counter(), we have to import it from the collections class in our program. Since Counter works for       hashable objects they are accessed using a key. We can get the Key using the get() method.\n"
   ]
  },
  {
   "cell_type": "code",
   "execution_count": 11,
   "id": "9d9b8d3f",
   "metadata": {},
   "outputs": [
    {
     "name": "stdout",
     "output_type": "stream",
     "text": [
      "from from from\n",
      "Most frequent character:  f\n"
     ]
    }
   ],
   "source": [
    "from collections import Counter\n",
    "\n",
    "string= \"from from from\"\n",
    "print(string)\n",
    "\n",
    "result= Counter(string)\n",
    "result= max(result, key=result.get)\n",
    "\n",
    "print(\"Most frequent character: \",result)\n"
   ]
  },
  {
   "cell_type": "code",
   "execution_count": null,
   "id": "c377c03d",
   "metadata": {},
   "outputs": [],
   "source": []
  },
  {
   "cell_type": "markdown",
   "id": "a0730a3b",
   "metadata": {},
   "source": [
    "Question 2: -\n",
    "\n",
    "Consider a string to be valid if all characters of the string appear the same number of times. It is also valid if\n",
    "he can remove just one character at the index in the string, and the remaining characters will occur the same\n",
    "number of times. Given a string, determine if it is valid. If so, return YES , otherwise return NO .\n",
    "\n",
    "\n",
    "Ans:\n",
    "\n",
    "Example\n",
    "\n",
    "s=abc\n",
    "\n",
    "This is a valid string because frequencies are .{\"a\":1,\"b\":1,\"c\":1}\n",
    "\n",
    "s=abcc\n",
    "\n",
    "This is a valid string because we can remove one  and have  of each character in the remaining string.\n",
    "\n",
    "s=abccc\n",
    "\n",
    "This string is not valid as we can only remove  occurrence of . That leaves character frequencies of .{\"a\":1,\"b\":1,\"c\":2}\n",
    "\n",
    "Function Description\n",
    "\n",
    "Complete the isValid function in the editor below.\n",
    "\n",
    "isValid has the following parameter(s):\n",
    "\n",
    "string s: a string\n",
    "\n",
    "Returns\n",
    "\n",
    "string: either YES or NO\n",
    "\n",
    "Input Format\n",
    "\n",
    "A single string s .\n",
    " \n",
    " Explanation 0\n",
    "\n",
    "Given s=\"aabbcd\" , we would need to remove two characters, both c and d- abb or a and b-  abcd, to make it valid. We are limited to removing only one character, so s is invalid.\n",
    "\n"
   ]
  },
  {
   "cell_type": "code",
   "execution_count": 18,
   "id": "f16958d2",
   "metadata": {},
   "outputs": [
    {
     "data": {
      "text/plain": [
       "'NO'"
      ]
     },
     "execution_count": 18,
     "metadata": {},
     "output_type": "execute_result"
    }
   ],
   "source": [
    "'NO'\n"
   ]
  },
  {
   "cell_type": "code",
   "execution_count": 15,
   "id": "52439a17",
   "metadata": {},
   "outputs": [
    {
     "data": {
      "text/plain": [
       "'aabbccddeefghi'"
      ]
     },
     "execution_count": 15,
     "metadata": {},
     "output_type": "execute_result"
    }
   ],
   "source": [
    "\"aabbccddeefghi\"\n"
   ]
  },
  {
   "cell_type": "markdown",
   "id": "c800571e",
   "metadata": {},
   "source": [
    "Explanation 1\n",
    "\n",
    "Frequency counts for the letters are as follows:\n",
    "\n",
    "{'a': 2, 'b': 2, 'c': 2, 'd': 2, 'e': 2, 'f': 1, 'g': 1, 'h': 1, 'i': 1}\n",
    "\n",
    "There are two ways to make the valid string:\n",
    "\n",
    "Remove 4 characters with a frequency of 1:{fghi}.\n",
    "Remove 5 characters of frequency 1:{abcde} .\n",
    "Neither of these is an option.\n",
    "\n",
    "\n",
    "Explanation 2\n",
    "\n",
    "All characters occur twice except for e which occurs 3 times. We can delete one instance of e to have a valid string.\n"
   ]
  },
  {
   "cell_type": "code",
   "execution_count": 19,
   "id": "494d553b",
   "metadata": {},
   "outputs": [
    {
     "data": {
      "text/plain": [
       "'abcdefghhgfedecba'"
      ]
     },
     "execution_count": 19,
     "metadata": {},
     "output_type": "execute_result"
    }
   ],
   "source": [
    "\"abcdefghhgfedecba\"\n"
   ]
  },
  {
   "cell_type": "code",
   "execution_count": 20,
   "id": "8ee5e41d",
   "metadata": {},
   "outputs": [
    {
     "data": {
      "text/plain": [
       "'yes'"
      ]
     },
     "execution_count": 20,
     "metadata": {},
     "output_type": "execute_result"
    }
   ],
   "source": [
    "'yes'"
   ]
  },
  {
   "cell_type": "code",
   "execution_count": null,
   "id": "835f08a6",
   "metadata": {},
   "outputs": [],
   "source": [
    "#include <bits/stdc++.h>\n",
    "\n",
    "using namespace std;\n",
    "\n",
    "/*\n",
    " * Complete the 'isValid' function below.\n",
    " *\n",
    " * The function is expected to return a STRING.\n",
    " * The function accepts STRING s as parameter.\n",
    " */\n",
    "\n",
    "string isValid(string s) {\n",
    "\n",
    "}\n",
    "\n",
    "int main()\n",
    "{\n",
    "    ofstream fout(getenv(\"OUTPUT_PATH\"));\n",
    "\n",
    "    string s;\n",
    "    getline(cin, s);\n",
    "\n",
    "    string result = isValid(s);\n",
    "\n",
    "    fout << result << \"\\n\";\n",
    "\n",
    "    fout.close();\n",
    "\n",
    "    return 0;\n",
    "}\n"
   ]
  },
  {
   "cell_type": "code",
   "execution_count": null,
   "id": "982a2a9d",
   "metadata": {},
   "outputs": [],
   "source": []
  },
  {
   "cell_type": "markdown",
   "id": "95c9b0b7",
   "metadata": {},
   "source": [
    "Question 3: -\n",
    "\n",
    "Write a program, which would download the data from the provided link, and then read the data and convert\n",
    "that into properly structured data and return it in Excel format.\n",
    "\n",
    "Ans:\n",
    "     \n",
    "        You can bring the data from an Excel workbook into Access databases in many ways. You can copy data from an open worksheet and paste it into an Access datasheet, import a worksheet into a new or existing table, or link to a worksheet from an Access database.\n",
    "\n",
    "        Understand importing data from Excel\n",
    "If your goal is to store some or all of your data from one or more Excel worksheets in Access, you should import the contents of the worksheet into a new or existing Access database. When you import data, Access creates a copy of the data in a new or existing table without altering the source Excel worksheet.\n",
    "\n",
    "Common scenarios for importing Excel data into Access\n",
    "You are a long-time user of Excel but, going forward, you want to use Access to work with this data. You want to move the data in your Excel worksheets into one or more new Access databases.\n",
    "\n",
    "Your department or workgroup uses Access, but you occasionally receive data in Excel format that must be merged with your Access databases. You want to import these Excel worksheets into your database as you receive them.\n",
    "\n",
    "You use Access to manage your data, but the weekly reports you receive from the rest of your team are Excel workbooks. You would like to streamline the import process to ensure that data is imported every week at a specific time into your database.\n",
    "\n",
    "If this is the first time you are importing data from Excel\n",
    "There is no way to save an Excel workbook as an Access database. Excel does not provide functionality to create an Access database from Excel data.\n",
    "\n",
    "When you open an Excel workbook in Access (in the File Open dialog box, change the Files of Type list box to Microsoft Office Excel Files and select the file you want), Access creates a link to the workbook instead of importing its data. Linking to a workbook is fundamentally different from importing a worksheet into a database. For more information about linking, see the section Link to data in Excel, later in this article.\n",
    "\n",
    "     \n",
    "Import data from Excel\n",
    "The steps in this section explain how to prepare for and run an import operation, and how to save the import settings as a specification for later reuse. As you proceed, remember that you can import data from only one worksheet at a time. You cannot import all the data from a whole workbook at the same time.\n",
    "\n",
    "Prepare the worksheet\n",
    "Locate the source file and select the worksheet that contains the data that you want to import to Access. If you want to import only a portion of a worksheet, you can define a named range that includes only the cells that you want to import.\n",
    "\n",
    "Define a named range (optional)   \n",
    "\n",
    "Switch to Excel and open the worksheet that has data that you want to import.\n",
    "\n",
    "Select the range of cells that contain the data that you want to import.\n",
    "\n",
    "Right-click within the selected range and then click Name a Range or Define Name.\n",
    "\n",
    "In the New Name dialog box, specify a name for the range in the Name box and click OK.\n",
    "\n",
    "Remember that you can import only one worksheet at a time during an import operation. To import data from multiple worksheets, repeat the import operation for each worksheet.\n",
    "\n"
   ]
  },
  {
   "cell_type": "code",
   "execution_count": null,
   "id": "77bba7ea",
   "metadata": {},
   "outputs": [],
   "source": []
  },
  {
   "cell_type": "markdown",
   "id": "2b81c83d",
   "metadata": {},
   "source": [
    "Question 6 -\n",
    "\n",
    "Using the data from Question 3, write code to analyze the data and answer the following questions Note 1.\n",
    "Draw plots to demonstrate the analysis for the following questions for better visualizations.\n",
    "2. Write code comments wherever required for code understanding\n",
    "\n",
    "Insights to be drawn -\n",
    "● Get all Pokemons whose spawn rate is less than 5%\n",
    "● Get all Pokemons that have less than 4 weaknesses\n",
    "● Get all Pokemons that have no multipliers at all\n",
    "● Get all Pokemons that do not have more than 2 evolutions\n",
    "● Get all Pokemons whose spawn time is less than 300 seconds.\n",
    "\n",
    "Ans:\n",
    "\n",
    "     In today’s world, a lot of data is being generated on a daily basis. And sometimes to analyze this data for certain trends, patterns may become difficult if the data is in its raw format. To overcome this data visualization comes into play. Data visualization provides a good, organized pictorial representation of the data which makes it easier to understand, observe, analyze. In this tutorial, we will discuss how to visualize data using Python.\n",
    "\n",
    "     Python provides various libraries that come with different features for visualizing data. All these libraries come with different features and can support various types of graphs. In this tutorial, we will be discussing four such libraries.\n",
    "\n",
    "Matplotlib\n",
    "Seaborn\n",
    "Bokeh\n",
    "Plotly\n",
    "\n",
    "     Database Used\n",
    "Tips Database\n",
    "Tips database is the record of the tip given by the customers in a restaurant for two and a half months in the early 1990s. It contains 6 columns such as total_bill, tip, sex, smoker, day, time, size.\n",
    "\n",
    "\n",
    "    "
   ]
  },
  {
   "cell_type": "code",
   "execution_count": null,
   "id": "4fa6a392",
   "metadata": {},
   "outputs": [],
   "source": []
  },
  {
   "cell_type": "markdown",
   "id": "c7854248",
   "metadata": {},
   "source": [
    "Question 7 -\n",
    "Using the data from Question 4, write code to analyze the data and answer the following questions Note -\n",
    "1. Draw plots to demonstrate the analysis for the following questions for better visualizations\n",
    "2. Write code comments wherever required for code understanding\n",
    "\n",
    "Insights to be drawn -\n",
    "● Get all the Earth meteorites that fell before the year 2000\n",
    "● Get all the earth meteorites co-ordinates who fell before the year 1970\n",
    "● Assuming that the mass of the earth meteorites was in kg, get all those whose mass was more\n",
    "than 10000kg\n",
    "\n",
    "\n",
    "Ans:\n",
    "     We’ll now take an in-depth look at the Matplotlib tool for visualization in Python. Matplotlib is a multiplatform data visualization library built on NumPy arrays, and designed to work with the broader SciPy stack. It was conceived by John Hunter in 2002, originally as a patch to IPython for enabling interactive MATLAB-style plotting via gnuplot from the IPython command line. IPython’s creator, Fernando Perez, was at the time scrambling to finish his PhD, and let John know he wouldn’t have time to review the patch for several months. John took this as a cue to set out on his own, and the Matplotlib package was born, with version 0.1 released in 2003. It received an early boost when it was adopted as the plotting package of choice of the Space Telescope Science Institute (the folks behind the Hubble Telescope), which financially supported Matplotlib’s development and greatly expanded its capabilities.\n",
    "\n",
    "One of Matplotlib’s most important features is its ability to play well with many operating systems and graphics backends. Matplotlib supports dozens of backends and output types, which means you can count on it to work regardless of which operating system you are using or which output format you wish. This cross-platform, everything-to-everyone approach has been one of the great strengths of Matplotlib. It has led to a large userbase, which in turn has led to an active developer base and Matplotlib’s powerful tools and ubiquity within the scientific Python world.\n",
    "\n",
    "In recent years, however, the interface and style of Matplotlib have begun to show their age. Newer tools like ggplot and ggvis in the R language, along with web visualization toolkits based on D3js and HTML5 canvas, often make Matplotlib feel clunky and old-fashioned. Still, I’m of the opinion that we cannot ignore Matplotlib’s strength as a well-tested, cross-platform graphics engine. Recent Matplotlib versions make it relatively easy to set new global plotting styles (see “Customizing Matplotlib: Configurations and Stylesheets”), and people have been developing new packages that build on its powerful internals to drive Matplotlib via cleaner, more modern APIs—for example, Seaborn (discussed in “Visualization with Seaborn”), ggplot, HoloViews, Altair, and even Pandas itself can be used as wrappers around Matplotlib’s API. Even with wrappers like these, it is still often useful to dive into Matplotlib’s syntax to adjust the final plot output. For this reason, I believe that Matplotlib itself will remain a vital piece of the data visualization stack, even if new tools mean the community gradually moves away from using the Matplotlib API directly.\n",
    "\n",
    "General Matplotlib Tips\n",
    "Before we dive into the details of creating visualizations with Matplotlib, there are a few useful things you should know about using the package.\n",
    "\n",
    "Importing matplotlib\n",
    "Just as we use the np shorthand for NumPy and the pd shorthand for Pandas, we will use some standard shorthands for Matplotlib imports:\n",
    "\n",
    "Setting Styles\n",
    "We will use the plt.style directive to choose appropriate aesthetic styles for our figures. Here we will set the classic style, which ensures that the plots we create use the classic Matplotlib style:\n",
    "\n",
    "Throughout this section, we will adjust this style as needed. Note that the stylesheets used here are supported as of Matplotlib version 1.5; if you are using an earlier version of Matplotlib, only the default style is available. For more information on stylesheets, see “Customizing Matplotlib: Configurations and Stylesheets”.\n",
    "\n",
    "show() or No show()? How to Display Your Plots\n",
    "A visualization you can’t see won’t be of much use, but just how you view your Matplotlib plots depends on the context. The best use of Matplotlib differs depending on how you are using it; roughly, the three applicable contexts are using Matplotlib in a script, in an IPython terminal, or in an IPython notebook.\n",
    "\n",
    "Plotting from a script\n",
    "If you are using Matplotlib from within a script, the function plt.show() is your friend. plt.show() starts an event loop, looks for all currently active figure objects, and opens one or more interactive windows that display your figure or figures.\n",
    "\n"
   ]
  },
  {
   "cell_type": "code",
   "execution_count": null,
   "id": "ad9632f4",
   "metadata": {},
   "outputs": [],
   "source": []
  },
  {
   "cell_type": "markdown",
   "id": "f8b86193",
   "metadata": {},
   "source": [
    "Question 8 -\n",
    "\n",
    "Using the data from Question 5, write code the analyze the data and answer the following questions Note -\n",
    "1. Draw plots to demonstrate the analysis for the following questions and better visualizations\n",
    "2. Write code comments wherever required for code understanding\n",
    "\n",
    "Ans:\n",
    "    \n",
    "    Data Visualization is the process of presenting data in the form of graphs or charts. It helps to understand large and complex amounts of data very easily. It allows the decision-makers to make decisions very efficiently and also allows them in identifying new trends and patterns very easily. It is also used in high-level data analysis for Machine Learning and Exploratory Data Analysis (EDA).  Data visualization can be done with various tools like Tableau, Power BI, Python.\n",
    "\n",
    "In this article, we will discuss how to visualize data with the help of the Matplotlib library of Python.\n",
    "\n",
    "Matplotlib\n",
    "Matplotlib is a low-level library of Python which is used for data visualization. It is easy to use and emulates MATLAB like graphs and visualization. This library is built on the top of NumPy arrays and consist of several plots like line chart, bar chart, histogram, etc. It provides a lot of flexibility but at the cost of writing more code.\n",
    "\n"
   ]
  },
  {
   "cell_type": "code",
   "execution_count": null,
   "id": "3e683246",
   "metadata": {},
   "outputs": [],
   "source": []
  },
  {
   "cell_type": "code",
   "execution_count": null,
   "id": "2912965a",
   "metadata": {},
   "outputs": [],
   "source": []
  }
 ],
 "metadata": {
  "kernelspec": {
   "display_name": "Python 3 (ipykernel)",
   "language": "python",
   "name": "python3"
  },
  "language_info": {
   "codemirror_mode": {
    "name": "ipython",
    "version": 3
   },
   "file_extension": ".py",
   "mimetype": "text/x-python",
   "name": "python",
   "nbconvert_exporter": "python",
   "pygments_lexer": "ipython3",
   "version": "3.9.13"
  }
 },
 "nbformat": 4,
 "nbformat_minor": 5
}
